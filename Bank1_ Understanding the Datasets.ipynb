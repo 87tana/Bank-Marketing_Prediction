{
 "cells": [
  {
   "cell_type": "markdown",
   "id": "0061e6c9",
   "metadata": {},
   "source": [
    "# Understanding the DataSet"
   ]
  },
  {
   "cell_type": "markdown",
   "id": "e3f4ad4c",
   "metadata": {},
   "source": [
    "### **Bank client Data:**\n",
    "\n",
    "\n",
    "\n",
    "\n",
    "- Age:(numeric)\n",
    "\n",
    "\n",
    "- Balance : average yearly balance in euros\n",
    "\n",
    "\n",
    "- Job: type of job (categorical)\n",
    "\n",
    "\n",
    "- Marital: marital status (categorical)\n",
    "\n",
    "\n",
    "- Education (categorical)\n",
    "\n",
    "\n",
    "- Default: has credit in default? (categorical: 'no', 'yes', 'unknown')\n",
    "\n",
    "\n",
    "- Housing: has housing loan? (categorical: 'no', 'yes', 'unknown')\n",
    "\n",
    "\n",
    "- Loan: has personal loan? (categorical: 'no', 'yes', 'unknown')"
   ]
  },
  {
   "cell_type": "markdown",
   "id": "8776715a",
   "metadata": {},
   "source": [
    "### **Related to the last contact of the current campaign:**\n",
    "\n",
    "\n",
    "\n",
    "\n",
    "- Contact: contact communication type (categorical)\n",
    "    \n",
    "    \n",
    "\n",
    "- Month: last contact month of year (categorical)\n",
    "    \n",
    "    \n",
    "\n",
    "- Day: last contact day of the week (categorical)\n",
    "    \n",
    "    \n",
    "\n",
    "- Duration: last contact duration, in seconds (numeric)"
   ]
  },
  {
   "cell_type": "markdown",
   "id": "cc77da23",
   "metadata": {},
   "source": [
    "### **Other Features**\n",
    "\n",
    "\n",
    "\n",
    "- Campaign: number of contacts performed during this campaign and for this client (numeric, includes last contact)\n",
    "\n",
    "\n",
    "\n",
    "- pdays: number of days that passed by after the client was last contacted from a previous campaign\n",
    "\n",
    "\n",
    "\n",
    "- previous: number of contacts performed before this campaign and for this client (numeric)\n",
    "\n",
    "\n",
    "\n",
    "- poutcome: outcome of the previous marketing campaign (categorical)\n"
   ]
  },
  {
   "cell_type": "markdown",
   "id": "a89677b3",
   "metadata": {},
   "source": [
    "### **Social and Economic context attributes**\n",
    "\n",
    "\n",
    "\n",
    "- emp.var.rate: employment variation rate — quarterly indicator (numeric)\n",
    "\n",
    "\n",
    "- cons.price.idx: consumer price index — monthly indicator (numeric)\n",
    "\n",
    "\n",
    "- cons.conf.idx: consumer confidence index — monthly indicator (numeric)\n",
    "\n",
    "\n",
    "- euribor3m: euribor 3 month rate — daily indicator (numeric)\n",
    "\n",
    "\n",
    "- nr.employed: number of employees — quarterly indicator (numeric)\n"
   ]
  },
  {
   "cell_type": "markdown",
   "id": "0640ec57",
   "metadata": {},
   "source": [
    "### **Target value**\n",
    "\n",
    "\n",
    "- y (deposit) : Target value"
   ]
  }
 ],
 "metadata": {
  "kernelspec": {
   "display_name": "Python 3 (ipykernel)",
   "language": "python",
   "name": "python3"
  },
  "language_info": {
   "codemirror_mode": {
    "name": "ipython",
    "version": 3
   },
   "file_extension": ".py",
   "mimetype": "text/x-python",
   "name": "python",
   "nbconvert_exporter": "python",
   "pygments_lexer": "ipython3",
   "version": "3.10.11"
  }
 },
 "nbformat": 4,
 "nbformat_minor": 5
}
