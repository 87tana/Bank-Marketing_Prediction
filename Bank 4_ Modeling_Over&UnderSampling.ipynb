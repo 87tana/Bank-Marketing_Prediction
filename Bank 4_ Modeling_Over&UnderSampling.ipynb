{
 "cells": [
  {
   "cell_type": "markdown",
   "id": "2aad9c2e",
   "metadata": {},
   "source": [
    "### Libraries & packages"
   ]
  },
  {
   "cell_type": "code",
   "execution_count": 1,
   "id": "2f991a67",
   "metadata": {},
   "outputs": [],
   "source": [
    "import pandas as pd\n",
    "import numpy as np\n",
    "import matplotlib.pyplot as plt\n",
    "import seaborn as sns\n",
    "%matplotlib inline\n",
    "\n",
    "from sklearn  import preprocessing\n",
    "from sklearn.impute import SimpleImputer\n",
    "from sklearn.preprocessing import OneHotEncoder\n",
    "from sklearn.preprocessing import LabelEncoder, OrdinalEncoder\n",
    "from sklearn.preprocessing import MinMaxScaler, StandardScaler\n",
    "from sklearn.preprocessing import KBinsDiscretizer\n",
    "from sklearn.pipeline import Pipeline\n",
    "from sklearn.compose import ColumnTransformer\n",
    "\n",
    "\n",
    "from sklearn.compose import make_column_selector as selector\n",
    "from sklearn.model_selection import train_test_split\n",
    "from sklearn.linear_model import LogisticRegression\n",
    "from sklearn.ensemble import RandomForestClassifier\n",
    "from sklearn.neighbors import KNeighborsClassifier\n",
    "\n",
    "\n",
    "from sklearn.model_selection import cross_val_score\n",
    "from sklearn.model_selection import StratifiedShuffleSplit\n",
    "from sklearn.metrics import confusion_matrix, ConfusionMatrixDisplay\n",
    "from sklearn.metrics import classification_report,accuracy_score\n",
    "from sklearn.metrics import f1_score\n",
    "from sklearn.model_selection import GridSearchCV\n",
    "from sklearn.model_selection import RandomizedSearchCV\n",
    "from sklearn.metrics import RocCurveDisplay\n",
    "\n",
    "from sklearn.utils import resample\n",
    "from imblearn.over_sampling import SMOTE, SVMSMOTE  \n",
    "from imblearn.over_sampling import RandomOverSampler\n",
    "from imblearn.under_sampling import RandomUnderSampler\n",
    "from sklearn.utils.class_weight import compute_class_weight\n",
    "\n",
    "\n",
    "import warnings\n",
    "warnings.filterwarnings('ignore')\n",
    "pd.set_option('display.max_columns', None)\n",
    "\n",
    "random_state=42"
   ]
  },
  {
   "cell_type": "markdown",
   "id": "0a63202c",
   "metadata": {},
   "source": [
    "##  Dataset"
   ]
  },
  {
   "cell_type": "code",
   "execution_count": 2,
   "id": "98a4c3eb",
   "metadata": {},
   "outputs": [
    {
     "data": {
      "text/html": [
       "<div>\n",
       "<style scoped>\n",
       "    .dataframe tbody tr th:only-of-type {\n",
       "        vertical-align: middle;\n",
       "    }\n",
       "\n",
       "    .dataframe tbody tr th {\n",
       "        vertical-align: top;\n",
       "    }\n",
       "\n",
       "    .dataframe thead th {\n",
       "        text-align: right;\n",
       "    }\n",
       "</style>\n",
       "<table border=\"1\" class=\"dataframe\">\n",
       "  <thead>\n",
       "    <tr style=\"text-align: right;\">\n",
       "      <th></th>\n",
       "      <th>age</th>\n",
       "      <th>job</th>\n",
       "      <th>marital</th>\n",
       "      <th>education</th>\n",
       "      <th>default</th>\n",
       "      <th>balance</th>\n",
       "      <th>housing</th>\n",
       "      <th>loan</th>\n",
       "      <th>contact</th>\n",
       "      <th>day</th>\n",
       "      <th>month</th>\n",
       "      <th>duration</th>\n",
       "      <th>campaign</th>\n",
       "      <th>pdays</th>\n",
       "      <th>previous</th>\n",
       "      <th>poutcome</th>\n",
       "      <th>y</th>\n",
       "    </tr>\n",
       "  </thead>\n",
       "  <tbody>\n",
       "    <tr>\n",
       "      <th>0</th>\n",
       "      <td>58</td>\n",
       "      <td>management</td>\n",
       "      <td>married</td>\n",
       "      <td>tertiary</td>\n",
       "      <td>no</td>\n",
       "      <td>2143</td>\n",
       "      <td>yes</td>\n",
       "      <td>no</td>\n",
       "      <td>unknown</td>\n",
       "      <td>5</td>\n",
       "      <td>may</td>\n",
       "      <td>261</td>\n",
       "      <td>1</td>\n",
       "      <td>-1</td>\n",
       "      <td>0</td>\n",
       "      <td>unknown</td>\n",
       "      <td>no</td>\n",
       "    </tr>\n",
       "    <tr>\n",
       "      <th>1</th>\n",
       "      <td>44</td>\n",
       "      <td>technician</td>\n",
       "      <td>single</td>\n",
       "      <td>secondary</td>\n",
       "      <td>no</td>\n",
       "      <td>29</td>\n",
       "      <td>yes</td>\n",
       "      <td>no</td>\n",
       "      <td>unknown</td>\n",
       "      <td>5</td>\n",
       "      <td>may</td>\n",
       "      <td>151</td>\n",
       "      <td>1</td>\n",
       "      <td>-1</td>\n",
       "      <td>0</td>\n",
       "      <td>unknown</td>\n",
       "      <td>no</td>\n",
       "    </tr>\n",
       "    <tr>\n",
       "      <th>2</th>\n",
       "      <td>33</td>\n",
       "      <td>entrepreneur</td>\n",
       "      <td>married</td>\n",
       "      <td>secondary</td>\n",
       "      <td>no</td>\n",
       "      <td>2</td>\n",
       "      <td>yes</td>\n",
       "      <td>yes</td>\n",
       "      <td>unknown</td>\n",
       "      <td>5</td>\n",
       "      <td>may</td>\n",
       "      <td>76</td>\n",
       "      <td>1</td>\n",
       "      <td>-1</td>\n",
       "      <td>0</td>\n",
       "      <td>unknown</td>\n",
       "      <td>no</td>\n",
       "    </tr>\n",
       "  </tbody>\n",
       "</table>\n",
       "</div>"
      ],
      "text/plain": [
       "   age           job  marital  education default  balance housing loan  \\\n",
       "0   58    management  married   tertiary      no     2143     yes   no   \n",
       "1   44    technician   single  secondary      no       29     yes   no   \n",
       "2   33  entrepreneur  married  secondary      no        2     yes  yes   \n",
       "\n",
       "   contact  day month  duration  campaign  pdays  previous poutcome   y  \n",
       "0  unknown    5   may       261         1     -1         0  unknown  no  \n",
       "1  unknown    5   may       151         1     -1         0  unknown  no  \n",
       "2  unknown    5   may        76         1     -1         0  unknown  no  "
      ]
     },
     "execution_count": 2,
     "metadata": {},
     "output_type": "execute_result"
    }
   ],
   "source": [
    "df = pd.read_csv('bank-full.csv', sep = ';')\n",
    "df.head(3)"
   ]
  },
  {
   "cell_type": "code",
   "execution_count": 3,
   "id": "38a229c5",
   "metadata": {},
   "outputs": [
    {
     "data": {
      "text/html": [
       "<div>\n",
       "<style scoped>\n",
       "    .dataframe tbody tr th:only-of-type {\n",
       "        vertical-align: middle;\n",
       "    }\n",
       "\n",
       "    .dataframe tbody tr th {\n",
       "        vertical-align: top;\n",
       "    }\n",
       "\n",
       "    .dataframe thead th {\n",
       "        text-align: right;\n",
       "    }\n",
       "</style>\n",
       "<table border=\"1\" class=\"dataframe\">\n",
       "  <thead>\n",
       "    <tr style=\"text-align: right;\">\n",
       "      <th></th>\n",
       "      <th>age</th>\n",
       "      <th>job</th>\n",
       "      <th>marital</th>\n",
       "      <th>education</th>\n",
       "      <th>default</th>\n",
       "      <th>housing</th>\n",
       "      <th>loan</th>\n",
       "      <th>contact</th>\n",
       "      <th>month</th>\n",
       "      <th>day_of_week</th>\n",
       "      <th>duration</th>\n",
       "      <th>campaign</th>\n",
       "      <th>pdays</th>\n",
       "      <th>previous</th>\n",
       "      <th>poutcome</th>\n",
       "      <th>emp.var.rate</th>\n",
       "      <th>cons.price.idx</th>\n",
       "      <th>cons.conf.idx</th>\n",
       "      <th>euribor3m</th>\n",
       "      <th>nr.employed</th>\n",
       "      <th>y</th>\n",
       "    </tr>\n",
       "  </thead>\n",
       "  <tbody>\n",
       "    <tr>\n",
       "      <th>0</th>\n",
       "      <td>56</td>\n",
       "      <td>housemaid</td>\n",
       "      <td>married</td>\n",
       "      <td>basic.4y</td>\n",
       "      <td>no</td>\n",
       "      <td>no</td>\n",
       "      <td>no</td>\n",
       "      <td>telephone</td>\n",
       "      <td>may</td>\n",
       "      <td>mon</td>\n",
       "      <td>261</td>\n",
       "      <td>1</td>\n",
       "      <td>999</td>\n",
       "      <td>0</td>\n",
       "      <td>nonexistent</td>\n",
       "      <td>1.1</td>\n",
       "      <td>93.994</td>\n",
       "      <td>-36.4</td>\n",
       "      <td>4.857</td>\n",
       "      <td>5191.0</td>\n",
       "      <td>no</td>\n",
       "    </tr>\n",
       "    <tr>\n",
       "      <th>1</th>\n",
       "      <td>57</td>\n",
       "      <td>services</td>\n",
       "      <td>married</td>\n",
       "      <td>high.school</td>\n",
       "      <td>unknown</td>\n",
       "      <td>no</td>\n",
       "      <td>no</td>\n",
       "      <td>telephone</td>\n",
       "      <td>may</td>\n",
       "      <td>mon</td>\n",
       "      <td>149</td>\n",
       "      <td>1</td>\n",
       "      <td>999</td>\n",
       "      <td>0</td>\n",
       "      <td>nonexistent</td>\n",
       "      <td>1.1</td>\n",
       "      <td>93.994</td>\n",
       "      <td>-36.4</td>\n",
       "      <td>4.857</td>\n",
       "      <td>5191.0</td>\n",
       "      <td>no</td>\n",
       "    </tr>\n",
       "    <tr>\n",
       "      <th>2</th>\n",
       "      <td>37</td>\n",
       "      <td>services</td>\n",
       "      <td>married</td>\n",
       "      <td>high.school</td>\n",
       "      <td>no</td>\n",
       "      <td>yes</td>\n",
       "      <td>no</td>\n",
       "      <td>telephone</td>\n",
       "      <td>may</td>\n",
       "      <td>mon</td>\n",
       "      <td>226</td>\n",
       "      <td>1</td>\n",
       "      <td>999</td>\n",
       "      <td>0</td>\n",
       "      <td>nonexistent</td>\n",
       "      <td>1.1</td>\n",
       "      <td>93.994</td>\n",
       "      <td>-36.4</td>\n",
       "      <td>4.857</td>\n",
       "      <td>5191.0</td>\n",
       "      <td>no</td>\n",
       "    </tr>\n",
       "  </tbody>\n",
       "</table>\n",
       "</div>"
      ],
      "text/plain": [
       "   age        job  marital    education  default housing loan    contact  \\\n",
       "0   56  housemaid  married     basic.4y       no      no   no  telephone   \n",
       "1   57   services  married  high.school  unknown      no   no  telephone   \n",
       "2   37   services  married  high.school       no     yes   no  telephone   \n",
       "\n",
       "  month day_of_week  duration  campaign  pdays  previous     poutcome  \\\n",
       "0   may         mon       261         1    999         0  nonexistent   \n",
       "1   may         mon       149         1    999         0  nonexistent   \n",
       "2   may         mon       226         1    999         0  nonexistent   \n",
       "\n",
       "   emp.var.rate  cons.price.idx  cons.conf.idx  euribor3m  nr.employed   y  \n",
       "0           1.1          93.994          -36.4      4.857       5191.0  no  \n",
       "1           1.1          93.994          -36.4      4.857       5191.0  no  \n",
       "2           1.1          93.994          -36.4      4.857       5191.0  no  "
      ]
     },
     "execution_count": 3,
     "metadata": {},
     "output_type": "execute_result"
    }
   ],
   "source": [
    "# dataset with social economic features\n",
    "df_new = pd.read_csv('bank-additional-full.csv', sep = ';')\n",
    "df_new.head(3)"
   ]
  },
  {
   "cell_type": "code",
   "execution_count": 4,
   "id": "234ffa79",
   "metadata": {},
   "outputs": [],
   "source": [
    "# get categorical data\n",
    "categorical_features = df.select_dtypes(include=['object'])\n",
    "#categorical_features"
   ]
  },
  {
   "cell_type": "code",
   "execution_count": 5,
   "id": "ec36aaa3",
   "metadata": {},
   "outputs": [],
   "source": [
    "# get numerical data\n",
    "Numeric_data = df.select_dtypes(include='number')\n",
    "#Numeric_data"
   ]
  },
  {
   "cell_type": "markdown",
   "id": "4c58cefe",
   "metadata": {},
   "source": [
    "- Isolate the features and the target values.\n",
    "\n",
    "- The target variable(y) is the last column in the Data Frame and hence using slicing, can separate them into feature and label."
   ]
  },
  {
   "cell_type": "code",
   "execution_count": 6,
   "id": "8f96f0c3",
   "metadata": {},
   "outputs": [],
   "source": [
    "# get all categorical feature except target vale y(deposit)\n",
    "feature = categorical_features.iloc[:,:-1].values"
   ]
  },
  {
   "cell_type": "code",
   "execution_count": 7,
   "id": "83a2d785",
   "metadata": {},
   "outputs": [],
   "source": [
    "label = categorical_features.iloc[:,-1].values\n",
    "#label"
   ]
  },
  {
   "cell_type": "markdown",
   "id": "c954af61",
   "metadata": {},
   "source": [
    "### Correlation Matrix of the Numerical Features:"
   ]
  },
  {
   "cell_type": "code",
   "execution_count": 8,
   "id": "f6123d72",
   "metadata": {},
   "outputs": [
    {
     "data": {
      "image/png": "[encoded data removed]",
      "text/plain": [
       "<Figure size 800x600 with 2 Axes>"
      ]
     },
     "metadata": {},
     "output_type": "display_data"
    }
   ],
   "source": [
    "corr = df.corr()\n",
    "\n",
    "# plot the heatmap\n",
    "fig, ax = plt.subplots(figsize=(8, 6))\n",
    "sns.heatmap(df.corr(), cmap='Blues', annot=True, square=False, linewidth=1, xticklabels=corr.columns, yticklabels=corr.columns, annot_kws={\"size\": 10}, ax=ax)\n",
    "ax.set_title('Pearson Correlation of Features', fontsize=14)\n",
    "plt.xticks(rotation=45)\n",
    "plt.yticks(rotation=0)\n",
    "fig.tight_layout()"
   ]
  },
  {
   "cell_type": "markdown",
   "id": "6afb87c5",
   "metadata": {},
   "source": [
    "**Observation**\n",
    "\n",
    "- it seems **no** feature is heavily correlated with other features"
   ]
  },
  {
   "cell_type": "markdown",
   "id": "31bbb9e1",
   "metadata": {},
   "source": [
    "## Imbalanced target value"
   ]
  },
  {
   "cell_type": "code",
   "execution_count": 9,
   "id": "f4ff0167",
   "metadata": {},
   "outputs": [
    {
     "data": {
      "image/png": "[encoded data removed]",
      "text/plain": [
       "<Figure size 600x400 with 1 Axes>"
      ]
     },
     "metadata": {},
     "output_type": "display_data"
    }
   ],
   "source": [
    "# set the color palette\n",
    "sns.set_palette(\"Blues\")\n",
    "\n",
    "# plot the countplot\n",
    "plt.figure(figsize=(6, 4))\n",
    "sns.countplot(x='y', data=df)\n",
    "plt.title(\"Count of y variable\")\n",
    "plt.xlabel(\"Subscribe a Term Deposit\")\n",
    "plt.ylabel(\"Count\")\n",
    "plt.show()"
   ]
  },
  {
   "cell_type": "markdown",
   "id": "c61d3021",
   "metadata": {},
   "source": [
    "#  Pre_processing"
   ]
  },
  {
   "cell_type": "markdown",
   "id": "4b9863ad",
   "metadata": {},
   "source": [
    "### Drop Unnecessary Columns "
   ]
  },
  {
   "cell_type": "code",
   "execution_count": 10,
   "id": "8f3d1370",
   "metadata": {},
   "outputs": [],
   "source": [
    "# According to EDA, some features like day,month have no affect on subscribition\n",
    "\n",
    "df.drop(['day', 'month'], axis=1, inplace=True) "
   ]
  },
  {
   "cell_type": "markdown",
   "id": "5e4713eb",
   "metadata": {},
   "source": [
    "- There are no missing values in this dataset. However, there are values labeled as unknown, which can be considered similar to missing values.\n",
    "\n",
    "\n",
    "\n",
    "- The unknown values for the job and education columns are randomly distributed throughout those columns, indicating that they were not recorded or were otherwise unavailable. In this case, we may want to consider treating these unknown values as missing and imputing them using a suitable imputation method.\n",
    "\n",
    "\n",
    "\n",
    "- The unknown values for the poutcome column represent the outcome of the previous marketing campaign for customers who were not previously contacted. To handle these values, we could segment the entire column into two categories: success and not success, based on whether the previous marketing campaign was successful or not. This would allow us to retain the information in the poutcome column without introducing missing values into the dataset.\n",
    "\n",
    "    \n",
    "- Overall, it is important to carefully consider the treatment of unknown values and missing values in the dataset to ensure that they do not bias the analysis or lead to inaccurate conclusions."
   ]
  },
  {
   "cell_type": "markdown",
   "id": "cda6570f",
   "metadata": {},
   "source": [
    "### Impute the Unknown Values"
   ]
  },
  {
   "cell_type": "code",
   "execution_count": 11,
   "id": "38e0ac40",
   "metadata": {},
   "outputs": [],
   "source": [
    "# Define the list of columns to impute\n",
    "columns_to_impute = ['job', 'education']\n",
    "\n",
    "\n",
    "# Loop over each column and impute unknown value\n",
    "for i in columns_to_impute:\n",
    "    # Compute the normalized value counts for non-unknown values\n",
    "    value_counts = df.loc[df[i] != 'unknown', i].value_counts(normalize=True)\n",
    "    df.loc[df[i] == 'unknown', i] = np.random.choice(value_counts.index, \n",
    "                                                       p = value_counts.values, size = df.loc[df[i]  == 'unknown'].shape[0] )"
   ]
  },
  {
   "cell_type": "code",
   "execution_count": 12,
   "id": "00a00407",
   "metadata": {},
   "outputs": [
    {
     "name": "stdout",
     "output_type": "stream",
     "text": [
      "['not success' 'success']\n"
     ]
    }
   ],
   "source": [
    "# 'unknown', 'failure', and 'other' indicate a lack of success in the previous marketing campaign\n",
    "# We are replacing these values with 'not success' to simplify the analysis\n",
    "# Note that the 'success' values are retained as-is\n",
    "df['poutcome'] = df['poutcome'].replace({'unknown':'not success', 'failure':'not success', 'other':'not success'})\n",
    "\n",
    "# Check the unique values in the original column\n",
    "print(df['poutcome'].unique())"
   ]
  },
  {
   "cell_type": "markdown",
   "id": "2c7c8324",
   "metadata": {},
   "source": [
    "### Transforem some Columns"
   ]
  },
  {
   "cell_type": "code",
   "execution_count": 13,
   "id": "dcf5919a",
   "metadata": {},
   "outputs": [],
   "source": [
    "df = df.rename(columns={'y': 'deposit'}) # Rename the target value\n",
    "df['deposit'] = df['deposit'].map({'yes': 1, 'no': 0}) # Define new columns for deposit yes and no\n",
    "\n",
    "df['duration'] = df['duration'].apply(lambda n: n / 60).round(2) #Change the unit of 'duration' from sec to min"
   ]
  },
  {
   "cell_type": "markdown",
   "id": "f56c380d",
   "metadata": {},
   "source": [
    "# Encoding"
   ]
  },
  {
   "cell_type": "markdown",
   "id": "83569026",
   "metadata": {},
   "source": [
    "-  According to litreature in the case of imbalanced data, using label encoding could result in an unintended bias towards the majority class. \n",
    "\n",
    "\n",
    "- This is because the numerical values assigned to each category may cause the model to treat the majority class as more important than the minority class. On the other hand, using dummy encoding could result in a more balanced representation of the categories, but it may also increase the risk of overfitting to the minority class.\n",
    "\n",
    "\n",
    "-  However, I try both methods and  got slightly better results on dummy than label encoding."
   ]
  },
  {
   "cell_type": "markdown",
   "id": "71ff8b48",
   "metadata": {},
   "source": [
    "### Dummy Encoding the Categorical Feature"
   ]
  },
  {
   "cell_type": "code",
   "execution_count": 14,
   "id": "c5378573",
   "metadata": {},
   "outputs": [
    {
     "data": {
      "text/html": [
       "<div>\n",
       "<style scoped>\n",
       "    .dataframe tbody tr th:only-of-type {\n",
       "        vertical-align: middle;\n",
       "    }\n",
       "\n",
       "    .dataframe tbody tr th {\n",
       "        vertical-align: top;\n",
       "    }\n",
       "\n",
       "    .dataframe thead th {\n",
       "        text-align: right;\n",
       "    }\n",
       "</style>\n",
       "<table border=\"1\" class=\"dataframe\">\n",
       "  <thead>\n",
       "    <tr style=\"text-align: right;\">\n",
       "      <th></th>\n",
       "      <th>job_admin.</th>\n",
       "      <th>job_blue-collar</th>\n",
       "      <th>job_entrepreneur</th>\n",
       "      <th>job_housemaid</th>\n",
       "      <th>job_management</th>\n",
       "      <th>job_retired</th>\n",
       "      <th>job_self-employed</th>\n",
       "      <th>job_services</th>\n",
       "      <th>job_student</th>\n",
       "      <th>job_technician</th>\n",
       "      <th>job_unemployed</th>\n",
       "      <th>marital_divorced</th>\n",
       "      <th>marital_married</th>\n",
       "      <th>marital_single</th>\n",
       "      <th>education_primary</th>\n",
       "      <th>education_secondary</th>\n",
       "      <th>education_tertiary</th>\n",
       "      <th>poutcome_not success</th>\n",
       "      <th>poutcome_success</th>\n",
       "      <th>contact_cellular</th>\n",
       "      <th>contact_telephone</th>\n",
       "      <th>contact_unknown</th>\n",
       "      <th>age</th>\n",
       "      <th>default</th>\n",
       "      <th>balance</th>\n",
       "      <th>housing</th>\n",
       "      <th>loan</th>\n",
       "      <th>duration</th>\n",
       "      <th>campaign</th>\n",
       "      <th>pdays</th>\n",
       "      <th>previous</th>\n",
       "      <th>deposit</th>\n",
       "    </tr>\n",
       "  </thead>\n",
       "  <tbody>\n",
       "    <tr>\n",
       "      <th>0</th>\n",
       "      <td>0</td>\n",
       "      <td>0</td>\n",
       "      <td>0</td>\n",
       "      <td>0</td>\n",
       "      <td>1</td>\n",
       "      <td>0</td>\n",
       "      <td>0</td>\n",
       "      <td>0</td>\n",
       "      <td>0</td>\n",
       "      <td>0</td>\n",
       "      <td>0</td>\n",
       "      <td>0</td>\n",
       "      <td>1</td>\n",
       "      <td>0</td>\n",
       "      <td>0</td>\n",
       "      <td>0</td>\n",
       "      <td>1</td>\n",
       "      <td>1</td>\n",
       "      <td>0</td>\n",
       "      <td>0</td>\n",
       "      <td>0</td>\n",
       "      <td>1</td>\n",
       "      <td>58</td>\n",
       "      <td>1</td>\n",
       "      <td>2143</td>\n",
       "      <td>1</td>\n",
       "      <td>1</td>\n",
       "      <td>4.35</td>\n",
       "      <td>1</td>\n",
       "      <td>-1</td>\n",
       "      <td>0</td>\n",
       "      <td>0</td>\n",
       "    </tr>\n",
       "    <tr>\n",
       "      <th>1</th>\n",
       "      <td>0</td>\n",
       "      <td>0</td>\n",
       "      <td>0</td>\n",
       "      <td>0</td>\n",
       "      <td>0</td>\n",
       "      <td>0</td>\n",
       "      <td>0</td>\n",
       "      <td>0</td>\n",
       "      <td>0</td>\n",
       "      <td>1</td>\n",
       "      <td>0</td>\n",
       "      <td>0</td>\n",
       "      <td>0</td>\n",
       "      <td>1</td>\n",
       "      <td>0</td>\n",
       "      <td>1</td>\n",
       "      <td>0</td>\n",
       "      <td>1</td>\n",
       "      <td>0</td>\n",
       "      <td>0</td>\n",
       "      <td>0</td>\n",
       "      <td>1</td>\n",
       "      <td>44</td>\n",
       "      <td>1</td>\n",
       "      <td>29</td>\n",
       "      <td>1</td>\n",
       "      <td>1</td>\n",
       "      <td>2.52</td>\n",
       "      <td>1</td>\n",
       "      <td>-1</td>\n",
       "      <td>0</td>\n",
       "      <td>0</td>\n",
       "    </tr>\n",
       "    <tr>\n",
       "      <th>2</th>\n",
       "      <td>0</td>\n",
       "      <td>0</td>\n",
       "      <td>1</td>\n",
       "      <td>0</td>\n",
       "      <td>0</td>\n",
       "      <td>0</td>\n",
       "      <td>0</td>\n",
       "      <td>0</td>\n",
       "      <td>0</td>\n",
       "      <td>0</td>\n",
       "      <td>0</td>\n",
       "      <td>0</td>\n",
       "      <td>1</td>\n",
       "      <td>0</td>\n",
       "      <td>0</td>\n",
       "      <td>1</td>\n",
       "      <td>0</td>\n",
       "      <td>1</td>\n",
       "      <td>0</td>\n",
       "      <td>0</td>\n",
       "      <td>0</td>\n",
       "      <td>1</td>\n",
       "      <td>33</td>\n",
       "      <td>1</td>\n",
       "      <td>2</td>\n",
       "      <td>1</td>\n",
       "      <td>1</td>\n",
       "      <td>1.27</td>\n",
       "      <td>1</td>\n",
       "      <td>-1</td>\n",
       "      <td>0</td>\n",
       "      <td>0</td>\n",
       "    </tr>\n",
       "    <tr>\n",
       "      <th>3</th>\n",
       "      <td>0</td>\n",
       "      <td>1</td>\n",
       "      <td>0</td>\n",
       "      <td>0</td>\n",
       "      <td>0</td>\n",
       "      <td>0</td>\n",
       "      <td>0</td>\n",
       "      <td>0</td>\n",
       "      <td>0</td>\n",
       "      <td>0</td>\n",
       "      <td>0</td>\n",
       "      <td>0</td>\n",
       "      <td>1</td>\n",
       "      <td>0</td>\n",
       "      <td>0</td>\n",
       "      <td>1</td>\n",
       "      <td>0</td>\n",
       "      <td>1</td>\n",
       "      <td>0</td>\n",
       "      <td>0</td>\n",
       "      <td>0</td>\n",
       "      <td>1</td>\n",
       "      <td>47</td>\n",
       "      <td>1</td>\n",
       "      <td>1506</td>\n",
       "      <td>1</td>\n",
       "      <td>1</td>\n",
       "      <td>1.53</td>\n",
       "      <td>1</td>\n",
       "      <td>-1</td>\n",
       "      <td>0</td>\n",
       "      <td>0</td>\n",
       "    </tr>\n",
       "    <tr>\n",
       "      <th>4</th>\n",
       "      <td>1</td>\n",
       "      <td>0</td>\n",
       "      <td>0</td>\n",
       "      <td>0</td>\n",
       "      <td>0</td>\n",
       "      <td>0</td>\n",
       "      <td>0</td>\n",
       "      <td>0</td>\n",
       "      <td>0</td>\n",
       "      <td>0</td>\n",
       "      <td>0</td>\n",
       "      <td>0</td>\n",
       "      <td>0</td>\n",
       "      <td>1</td>\n",
       "      <td>0</td>\n",
       "      <td>1</td>\n",
       "      <td>0</td>\n",
       "      <td>1</td>\n",
       "      <td>0</td>\n",
       "      <td>0</td>\n",
       "      <td>0</td>\n",
       "      <td>1</td>\n",
       "      <td>33</td>\n",
       "      <td>1</td>\n",
       "      <td>1</td>\n",
       "      <td>1</td>\n",
       "      <td>1</td>\n",
       "      <td>3.30</td>\n",
       "      <td>1</td>\n",
       "      <td>-1</td>\n",
       "      <td>0</td>\n",
       "      <td>0</td>\n",
       "    </tr>\n",
       "  </tbody>\n",
       "</table>\n",
       "</div>"
      ],
      "text/plain": [
       "   job_admin.  job_blue-collar  job_entrepreneur  job_housemaid  \\\n",
       "0           0                0                 0              0   \n",
       "1           0                0                 0              0   \n",
       "2           0                0                 1              0   \n",
       "3           0                1                 0              0   \n",
       "4           1                0                 0              0   \n",
       "\n",
       "   job_management  job_retired  job_self-employed  job_services  job_student  \\\n",
       "0               1            0                  0             0            0   \n",
       "1               0            0                  0             0            0   \n",
       "2               0            0                  0             0            0   \n",
       "3               0            0                  0             0            0   \n",
       "4               0            0                  0             0            0   \n",
       "\n",
       "   job_technician  job_unemployed  marital_divorced  marital_married  \\\n",
       "0               0               0                 0                1   \n",
       "1               1               0                 0                0   \n",
       "2               0               0                 0                1   \n",
       "3               0               0                 0                1   \n",
       "4               0               0                 0                0   \n",
       "\n",
       "   marital_single  education_primary  education_secondary  education_tertiary  \\\n",
       "0               0                  0                    0                   1   \n",
       "1               1                  0                    1                   0   \n",
       "2               0                  0                    1                   0   \n",
       "3               0                  0                    1                   0   \n",
       "4               1                  0                    1                   0   \n",
       "\n",
       "   poutcome_not success  poutcome_success  contact_cellular  \\\n",
       "0                     1                 0                 0   \n",
       "1                     1                 0                 0   \n",
       "2                     1                 0                 0   \n",
       "3                     1                 0                 0   \n",
       "4                     1                 0                 0   \n",
       "\n",
       "   contact_telephone  contact_unknown  age  default  balance  housing  loan  \\\n",
       "0                  0                1   58        1     2143        1     1   \n",
       "1                  0                1   44        1       29        1     1   \n",
       "2                  0                1   33        1        2        1     1   \n",
       "3                  0                1   47        1     1506        1     1   \n",
       "4                  0                1   33        1        1        1     1   \n",
       "\n",
       "   duration  campaign  pdays  previous  deposit  \n",
       "0      4.35         1     -1         0        0  \n",
       "1      2.52         1     -1         0        0  \n",
       "2      1.27         1     -1         0        0  \n",
       "3      1.53         1     -1         0        0  \n",
       "4      3.30         1     -1         0        0  "
      ]
     },
     "execution_count": 14,
     "metadata": {},
     "output_type": "execute_result"
    }
   ],
   "source": [
    "#Convert categorical variables to dummy variables\n",
    "df_dummy = pd.get_dummies(df[['job', 'marital', 'education', 'poutcome', 'contact']])\n",
    "\n",
    "# Drop original categorical columns\n",
    "df = df.drop(['job', 'marital', 'education', 'poutcome', 'contact'], axis=1)\n",
    "\n",
    "#First Convert the object to Boolean\n",
    "df['housing'] = df['housing'].astype(bool)\n",
    "df['loan'] = df['loan'].astype(bool)\n",
    "df['default'] = df['default'].astype(bool)\n",
    "\n",
    "#Convert Boolean variables to integers\n",
    "df['housing'] = df['housing'].astype('int')\n",
    "df['loan'] = df['loan'].astype('int')\n",
    "df['default'] = df['default'].astype('int')\n",
    "\n",
    "# Concatenate encoded categorical variables with numerical variables\n",
    "df = pd.concat([df_dummy, df], axis=1)\n",
    "\n",
    "#Check the first few rows of the new DataFrame\n",
    "df.head()"
   ]
  },
  {
   "cell_type": "markdown",
   "id": "bec60d3b",
   "metadata": {},
   "source": [
    "#  Prepare the features and target variable"
   ]
  },
  {
   "cell_type": "code",
   "execution_count": 15,
   "id": "f85f6c99",
   "metadata": {},
   "outputs": [],
   "source": [
    "X = df.drop('deposit',axis=1)\n",
    "y = df['deposit']"
   ]
  },
  {
   "cell_type": "code",
   "execution_count": 16,
   "id": "5ed05b38",
   "metadata": {},
   "outputs": [
    {
     "data": {
      "text/plain": [
       "((45211, 31), (45211,))"
      ]
     },
     "execution_count": 16,
     "metadata": {},
     "output_type": "execute_result"
    }
   ],
   "source": [
    "X.shape, y.shape"
   ]
  },
  {
   "cell_type": "markdown",
   "id": "52e725b4",
   "metadata": {},
   "source": [
    "# Feature Scaling"
   ]
  },
  {
   "cell_type": "code",
   "execution_count": 17,
   "id": "822bfb14",
   "metadata": {},
   "outputs": [],
   "source": [
    "#Normalize the features\n",
    "from sklearn.preprocessing import RobustScaler\n",
    "scaler = RobustScaler()\n",
    "x_scaled = scaler.fit_transform(X)\n",
    "columns = X.columns\n",
    "X = pd.DataFrame(x_scaled, columns=columns)\n",
    "#x_scaled contains the normalized features"
   ]
  },
  {
   "cell_type": "markdown",
   "id": "818a668f",
   "metadata": {},
   "source": [
    "# Train-Test Split¶"
   ]
  },
  {
   "cell_type": "markdown",
   "id": "7544ce24",
   "metadata": {},
   "source": [
    "X_train, X_test, y_train, y_test = train_test_split(X, y, test_size=0.2, random_state=42, stratify=y) \n",
    "X_train.shape, y_train.shape, X_test.shape, y_test.shape\n",
    "#stratify-> target value distribution unchanged"
   ]
  },
  {
   "cell_type": "markdown",
   "id": "c933348f",
   "metadata": {},
   "source": [
    "# Apply Oversampling & Undersampling to improve the misclassification"
   ]
  },
  {
   "cell_type": "markdown",
   "id": "ffc57c5a",
   "metadata": {},
   "source": [
    "- Apply the Oversampling (SMOTE&SVMSMOTE) and Undersampling on the entire train set\n",
    "\n",
    "\n",
    "\n",
    "- Then compare to the unresample test set to see how well geneealizes to unseen data."
   ]
  },
  {
   "cell_type": "code",
   "execution_count": 18,
   "id": "b080d39f",
   "metadata": {},
   "outputs": [],
   "source": [
    "# create two sections, oversampling and undersampling\n",
    "from imblearn.over_sampling import SMOTE, SVMSMOTE\n",
    "from imblearn.under_sampling import RandomUnderSampler\n",
    "\n",
    "sm = SVMSMOTE (random_state=42) # first try this\n",
    "#rus = RandomUnderSampler (random_state=42) #second try this"
   ]
  },
  {
   "cell_type": "code",
   "execution_count": 19,
   "id": "77d83b24",
   "metadata": {},
   "outputs": [],
   "source": [
    "# Split the original data into training and testing sets\n",
    "X_train, X_test, y_train, y_test = train_test_split(X, y, test_size=0.3, random_state=42)\n",
    "\n",
    "# Apply resampling to the training set only\n",
    "sm = SMOTE(random_state=42)\n",
    "X_train_res, y_train_res = sm.fit_resample(X_train, y_train)"
   ]
  },
  {
   "cell_type": "code",
   "execution_count": null,
   "id": "e6f02c20",
   "metadata": {},
   "outputs": [],
   "source": [
    "X_train, X_test, y_train, y_test = train_test_split(X_train_res, y_train_res, test_size=0.3, random_state=42) "
   ]
  },
  {
   "cell_type": "markdown",
   "id": "7af7de1a",
   "metadata": {},
   "source": [
    "## Cross validation - Stratified sampling \n",
    "\n",
    "- Cross validate to check which model performs better \n",
    "\n",
    "\n",
    "- Using **stratified** to keeping the target values distibution unchanged"
   ]
  },
  {
   "cell_type": "code",
   "execution_count": 20,
   "id": "bc30b237",
   "metadata": {},
   "outputs": [],
   "source": [
    "# create a splitter object\n",
    "stratified = StratifiedShuffleSplit(n_splits=5,test_size=0.2, random_state=42) "
   ]
  },
  {
   "cell_type": "code",
   "execution_count": 21,
   "id": "924f38bb",
   "metadata": {},
   "outputs": [
    {
     "name": "stdout",
     "output_type": "stream",
     "text": [
      "Logistic Regression CV Score: 0.8086381114191183\n",
      "KNN CV Score: 0.8879191630152912\n",
      "Random Forest CV Score: 0.9335062147903066\n"
     ]
    }
   ],
   "source": [
    "from sklearn.model_selection import cross_val_score\n",
    "from sklearn.linear_model import LogisticRegression\n",
    "from sklearn.neighbors import KNeighborsClassifier\n",
    "from sklearn.ensemble import RandomForestClassifier\n",
    "\n",
    "# Define the models to compare\n",
    "models = [\n",
    "    ('Logistic Regression', LogisticRegression(random_state=42)),\n",
    "    ('KNN', KNeighborsClassifier()),\n",
    "    ('Random Forest', RandomForestClassifier(random_state=42))\n",
    "]\n",
    "\n",
    "# Calculate cross-validation scores for each model\n",
    "for name, model in models:\n",
    "    cv_score = cross_val_score(estimator=model, X=X_train_res, y=y_train_res, scoring='accuracy', cv=stratified)\n",
    "    print(f'{name} CV Score:', cv_score.mean())\n"
   ]
  },
  {
   "cell_type": "markdown",
   "id": "43582fc1",
   "metadata": {},
   "source": [
    "- we can not make a decision based on cross validation becase all the models perform quite similar\n",
    "\n",
    "\n",
    "\n",
    "- Hence based on cross validation on the train set,  all of the three models are quite good, and does not give significant difference\n",
    "\n",
    "\n",
    "\n",
    "- in doing the cross validation we have to sure our model is not overfitted(e.g., random forest was overfitted and we change the parameters)"
   ]
  },
  {
   "cell_type": "markdown",
   "id": "8afc4688",
   "metadata": {},
   "source": [
    "# Model Building"
   ]
  },
  {
   "cell_type": "markdown",
   "id": "a66fc9f2",
   "metadata": {},
   "source": [
    "## Logistic Regression"
   ]
  },
  {
   "cell_type": "markdown",
   "id": "eed4733c",
   "metadata": {},
   "source": [
    "The target variable in this problem is \"deposit\", which is a binary variable with \"Yes/No\" values. Thus, the appropriate type of predictive models to use for developing the models are Binary Classification Algorithms.\n",
    "\n",
    "In this project, we will be using three supervised models:\n",
    "\n",
    "- Logistic Regression\n",
    "\n",
    "- K-Nearest Neighbors (KNN)\n",
    "\n",
    "- Random Forest\n",
    "\n",
    "Each of these models is capable of learning from the data to make accurate predictions about the target variable."
   ]
  },
  {
   "cell_type": "code",
   "execution_count": 22,
   "id": "83faf60b",
   "metadata": {},
   "outputs": [
    {
     "name": "stdout",
     "output_type": "stream",
     "text": [
      "Training accuracy: 0.8085384175132351\n",
      "Test accuracy: 0.8241669124152168\n"
     ]
    }
   ],
   "source": [
    "# Fit Logistic Regression model on the training data\n",
    "lr = LogisticRegression(random_state=42)\n",
    "lr.fit(X_train_res, y_train_res)\n",
    "\n",
    "# Evaluate the performance on the training data\n",
    "train_accuracy = lr.score(X_train_res, y_train_res)\n",
    "print(\"Training accuracy:\", train_accuracy)\n",
    "\n",
    "# Evaluate the performance on the test data\n",
    "test_prediction = lr.predict(X_test)\n",
    "test_accuracy = accuracy_score(y_test, test_prediction)\n",
    "print(\"Test accuracy:\", test_accuracy)\n",
    "\n",
    "# Check for overfitting by comparing train and test accuracy\n",
    "if abs(train_accuracy - test_accuracy) > 0.1:\n",
    "    print(\"Warning: Overfitting detected\")\n",
    "\n",
    "# Train and test accuracy are quite close so we don't seem to have too much overfitting"
   ]
  },
  {
   "cell_type": "code",
   "execution_count": 23,
   "id": "3dee93ed",
   "metadata": {},
   "outputs": [
    {
     "data": {
      "text/plain": [
       "array([[9990, 1976],\n",
       "       [ 409, 1189]], dtype=int64)"
      ]
     },
     "execution_count": 23,
     "metadata": {},
     "output_type": "execute_result"
    }
   ],
   "source": [
    "# evaluate\n",
    "confusion_matrix(y_test,test_prediction)"
   ]
  },
  {
   "cell_type": "code",
   "execution_count": 24,
   "id": "fe3875db",
   "metadata": {},
   "outputs": [
    {
     "name": "stdout",
     "output_type": "stream",
     "text": [
      "Confusion matrix:\n",
      "True negatives: 9990\n",
      "False positives: 1976\n",
      "False negatives: 409\n",
      "True positives: 1189\n"
     ]
    }
   ],
   "source": [
    "# fn :model say no deposit but they actually deposit\n",
    "# fp :model say deposit but they actullay NOT deposit\n",
    "\n",
    "# Calculate confusion matrix\n",
    "tn, fp, fn, tp = confusion_matrix(y_test, test_prediction).ravel()\n",
    "\n",
    "print(\"Confusion matrix:\")\n",
    "print(f\"True negatives: {tn}\")\n",
    "print(f\"False positives: {fp}\")\n",
    "print(f\"False negatives: {fn}\")\n",
    "print(f\"True positives: {tp}\")"
   ]
  },
  {
   "cell_type": "code",
   "execution_count": 25,
   "id": "4dbcf472",
   "metadata": {},
   "outputs": [
    {
     "name": "stdout",
     "output_type": "stream",
     "text": [
      "              precision    recall  f1-score   support\n",
      "\n",
      "           0       0.96      0.83      0.89     11966\n",
      "           1       0.38      0.74      0.50      1598\n",
      "\n",
      "    accuracy                           0.82     13564\n",
      "   macro avg       0.67      0.79      0.70     13564\n",
      "weighted avg       0.89      0.82      0.85     13564\n",
      "\n"
     ]
    }
   ],
   "source": [
    "print(classification_report(y_test,test_prediction))"
   ]
  },
  {
   "cell_type": "markdown",
   "id": "9628fb95",
   "metadata": {},
   "source": [
    "# Create List for Collecting the Results"
   ]
  },
  {
   "cell_type": "code",
   "execution_count": 26,
   "id": "b5e949e6",
   "metadata": {},
   "outputs": [],
   "source": [
    "# two empthy list to append all the results\n",
    "\n",
    "accu = []\n",
    "methods = []"
   ]
  },
  {
   "cell_type": "markdown",
   "id": "44a8b945",
   "metadata": {},
   "source": [
    "# This function is to plot the confusion matrix"
   ]
  },
  {
   "cell_type": "code",
   "execution_count": 27,
   "id": "1f2aa39f",
   "metadata": {},
   "outputs": [],
   "source": [
    "def plot_confusion_matrix(y_test, y_pred, labels=None):\n",
    "    \"\"\"\n",
    "    Plot a confusion matrix for the given true and predicted labels.\n",
    "    Optionally, provide a list of label names to use for the plot.\n",
    "    \"\"\"\n",
    "    if labels is None:\n",
    "        labels = np.unique(y_pred)\n",
    "    cm = confusion_matrix(y_test, y_pred, labels=labels)\n",
    "    fig, ax = plt.subplots()\n",
    "    sns.heatmap(cm, annot=True, fmt='g', cmap='Blues', ax=ax)\n",
    "    ax.set_xlabel('Predicted Labels')\n",
    "    ax.set_ylabel('True Labels')\n",
    "    ax.set_xticklabels(labels)\n",
    "    ax.set_yticklabels(labels)\n",
    "    ax.set_title('Confusion Matrix')\n",
    "    plt.show()"
   ]
  },
  {
   "cell_type": "markdown",
   "id": "fc5ad5ae",
   "metadata": {},
   "source": [
    "## Hyperparameters tuning GridSearch for  Logistic Regression"
   ]
  },
  {
   "cell_type": "markdown",
   "id": "bfa81e50",
   "metadata": {},
   "source": [
    "- The highest class weight in this list assigns 50 times more weight to the positive class (class 1) than to the negative class (class 0). \n",
    "\n",
    "\n",
    "\n",
    "- This should give the model enough flexibility to find the best trade-off between precision and recall, while still accounting for the class imbalance."
   ]
  },
  {
   "cell_type": "code",
   "execution_count": 28,
   "id": "be234e80",
   "metadata": {},
   "outputs": [
    {
     "name": "stdout",
     "output_type": "stream",
     "text": [
      "Best F1 score: 0.7816475821442663\n",
      "Test F1 score: 0.3907319641916798\n",
      "CPU times: total: 17min 8s\n",
      "Wall time: 18min 20s\n"
     ]
    }
   ],
   "source": [
    "%%time\n",
    "\n",
    "# Define logistic regression model\n",
    "lr_cv = LogisticRegression(random_state=42)\n",
    "\n",
    "\n",
    "# Define the range of class_weight\n",
    "#'class_weight': [{0: 1, 1: w} for w in np.linspace(1, 50, 50)] -> better\n",
    "\n",
    "#class_freq = dict(df['deposit'].value_counts(normalize=True))\n",
    "#class_weights = []\n",
    "#for cls, freq in class_freq.items():\n",
    "    #weight = len(df) / (len(class_freq) * freq)\n",
    "    #class_weights.append({cls: weight})\n",
    "\n",
    "class_weights = [{0: 1, 1: w} for w in [3, 5, 7, 10,12]] \n",
    "\n",
    "# Define hyperparameters to search over\n",
    "param_grid = {\n",
    "    'penalty': ['l1', 'l2'],\n",
    "    'C': np.logspace(-3, 3, 7),\n",
    "    'class_weight': class_weights,\n",
    "    'solver': ['liblinear', 'saga']}\n",
    "\n",
    "\n",
    "# Create GridSearchCV object\n",
    "grid_search = GridSearchCV(lr_cv, param_grid, cv=stratified, scoring='f1_macro')\n",
    "\n",
    "# Fit grid search to training data\n",
    "grid_search.fit(X_train_res, y_train_res)\n",
    "\n",
    "# Get the best estimator and score\n",
    "best_lr = grid_search.best_estimator_  # best combination of hyperparameters \n",
    "best_score = grid_search.best_score_    # refers to the value of the scoring metric achieved by the best estimator.\n",
    "\n",
    "# Evaluate the best estimator on the test data\n",
    "y_pred = best_lr.predict(X_test)\n",
    "test_score = f1_score(y_test, y_pred)\n",
    "\n",
    "print(f\"Best F1 score: {best_score}\")\n",
    "print(f\"Test F1 score: {test_score}\")"
   ]
  },
  {
   "cell_type": "code",
   "execution_count": 29,
   "id": "5463d8ba",
   "metadata": {},
   "outputs": [
    {
     "name": "stdout",
     "output_type": "stream",
     "text": [
      "tuned hyperparameters: (best parameters) {'C': 1000.0, 'class_weight': {0: 1, 1: 3}, 'penalty': 'l1', 'solver': 'liblinear'}\n"
     ]
    }
   ],
   "source": [
    "print('tuned hyperparameters: (best parameters)', grid_search.best_params_)"
   ]
  },
  {
   "cell_type": "code",
   "execution_count": 30,
   "id": "1ebda481",
   "metadata": {},
   "outputs": [
    {
     "name": "stdout",
     "output_type": "stream",
     "text": [
      "Confusion matrix:\n",
      "True negatives: 7452\n",
      "False positives: 4514\n",
      "False negatives: 114\n",
      "True positives: 1484\n"
     ]
    }
   ],
   "source": [
    "# Calculate confusion matrix\n",
    "tn, fp, fn, tp = confusion_matrix(y_test, y_pred).ravel()\n",
    "\n",
    "print(\"Confusion matrix:\")\n",
    "print(f\"True negatives: {tn}\")\n",
    "print(f\"False positives: {fp}\")\n",
    "print(f\"False negatives: {fn}\")\n",
    "print(f\"True positives: {tp}\")\n"
   ]
  },
  {
   "cell_type": "code",
   "execution_count": 31,
   "id": "3686f188",
   "metadata": {},
   "outputs": [
    {
     "name": "stdout",
     "output_type": "stream",
     "text": [
      "X_test Accuracy: 0.658802713063993\n"
     ]
    }
   ],
   "source": [
    "# appeand the test results\n",
    "# Evaluate the best estimator on the test data\n",
    "\n",
    "accu.append(best_lr.score(X_test,y_test))\n",
    "methods.append('Logistic Regression')\n",
    "print('X_test Accuracy:', best_lr.score(X_test,y_test))"
   ]
  },
  {
   "cell_type": "markdown",
   "id": "5fc7e673",
   "metadata": {},
   "source": [
    "# Confusion Matrix for logistic Regression"
   ]
  },
  {
   "cell_type": "code",
   "execution_count": 32,
   "id": "b8442bb6",
   "metadata": {},
   "outputs": [
    {
     "data": {
      "image/png": "[encoded data removed]",
      "text/plain": [
       "<Figure size 640x480 with 2 Axes>"
      ]
     },
     "metadata": {},
     "output_type": "display_data"
    }
   ],
   "source": [
    "predictions= best_lr.predict(X_test)\n",
    "\n",
    "plot_confusion_matrix(predictions, y_test, labels=[0, 1])"
   ]
  },
  {
   "cell_type": "markdown",
   "id": "d32a6052",
   "metadata": {},
   "source": [
    "- the position of false negatives and false positives is different in the output of a general matrix in Python and a confusion matrix "
   ]
  },
  {
   "cell_type": "code",
   "execution_count": 33,
   "id": "e42f3540",
   "metadata": {},
   "outputs": [
    {
     "name": "stdout",
     "output_type": "stream",
     "text": [
      "              precision    recall  f1-score   support\n",
      "\n",
      " not deposit       0.98      0.62      0.76     11966\n",
      "     deposit       0.25      0.93      0.39      1598\n",
      "\n",
      "    accuracy                           0.66     13564\n",
      "   macro avg       0.62      0.78      0.58     13564\n",
      "weighted avg       0.90      0.66      0.72     13564\n",
      "\n"
     ]
    }
   ],
   "source": [
    "print(classification_report(y_test,predictions,target_names=['not deposit', 'deposit']))"
   ]
  },
  {
   "cell_type": "markdown",
   "id": "1657ea64",
   "metadata": {},
   "source": [
    "- Low recall means that model is struggling with classifying deposit cases"
   ]
  },
  {
   "cell_type": "markdown",
   "id": "0bfaf63e",
   "metadata": {},
   "source": [
    "- As we try to decrease both false positive and false negative, the f1 score can be excellent metric.\n",
    "\n",
    "\n",
    "- The ROC and AUC is also an intrsting metric that can show the model's effectiveness. \n",
    "\n",
    "\n",
    "- AUC closer to 1 means the model is highly effective"
   ]
  },
  {
   "cell_type": "markdown",
   "id": "432df5de",
   "metadata": {},
   "source": [
    "# K Nearest Neighbors"
   ]
  },
  {
   "cell_type": "code",
   "execution_count": 34,
   "id": "b8fc09b3",
   "metadata": {},
   "outputs": [
    {
     "name": "stdout",
     "output_type": "stream",
     "text": [
      "Training accuracy: 0.9044391186149664\n",
      "Test accuracy: 0.7943084635800649\n",
      "Warning: Overfitting detected\n"
     ]
    }
   ],
   "source": [
    "# Fit model on the training data\n",
    "np.random.seed(42)\n",
    "\n",
    "knn = KNeighborsClassifier(n_neighbors=10)\n",
    "knn.fit(X_train_res, y_train_res)\n",
    "\n",
    "# Evaluate the performance on the training data\n",
    "train_accuracy = knn.score(X_train_res, y_train_res)\n",
    "print(\"Training accuracy:\", train_accuracy)\n",
    "\n",
    "# Evaluate the performance on the test data\n",
    "test_prediction = knn.predict(X_test)\n",
    "test_accuracy = accuracy_score(y_test, test_prediction)\n",
    "print(\"Test accuracy:\", test_accuracy)\n",
    "\n",
    "# Check for overfitting by comparing train and test accuracy\n",
    "if abs(train_accuracy - test_accuracy) > 0.1:\n",
    "    print(\"Warning: Overfitting detected\")\n",
    "\n",
    "# Train and test accuracy are quite close so we don't seem to have too much overfitting"
   ]
  },
  {
   "cell_type": "code",
   "execution_count": 35,
   "id": "0e91d81b",
   "metadata": {},
   "outputs": [
    {
     "data": {
      "text/plain": [
       "array([[9641, 2325],\n",
       "       [ 465, 1133]], dtype=int64)"
      ]
     },
     "execution_count": 35,
     "metadata": {},
     "output_type": "execute_result"
    }
   ],
   "source": [
    "# evaluate\n",
    "confusion_matrix(y_test,test_prediction)"
   ]
  },
  {
   "cell_type": "code",
   "execution_count": 36,
   "id": "98dcda9b",
   "metadata": {},
   "outputs": [
    {
     "name": "stdout",
     "output_type": "stream",
     "text": [
      "              precision    recall  f1-score   support\n",
      "\n",
      "           0       0.95      0.81      0.87     11966\n",
      "           1       0.33      0.71      0.45      1598\n",
      "\n",
      "    accuracy                           0.79     13564\n",
      "   macro avg       0.64      0.76      0.66     13564\n",
      "weighted avg       0.88      0.79      0.82     13564\n",
      "\n"
     ]
    }
   ],
   "source": [
    "print(classification_report(y_test,test_prediction))"
   ]
  },
  {
   "cell_type": "markdown",
   "id": "31723bd2",
   "metadata": {},
   "source": [
    "## Hyperparameters tuning GridSearch for KNN"
   ]
  },
  {
   "cell_type": "code",
   "execution_count": 37,
   "id": "c8c54a97",
   "metadata": {},
   "outputs": [
    {
     "name": "stdout",
     "output_type": "stream",
     "text": [
      "Best F1 score: 0.9046581342674059\n",
      "Test F1 score: 0.43734307235790915\n",
      "CPU times: total: 11.9 s\n",
      "Wall time: 1min 22s\n"
     ]
    }
   ],
   "source": [
    "%%time\n",
    "\n",
    "\n",
    "# Create a k-NN classifier with class weights\n",
    "knn_cv = KNeighborsClassifier(n_neighbors=10, weights='distance') # How to weight each neigbour \n",
    "                                                                  #gives more weight to close neighbour\n",
    "\n",
    "class_weights = compute_class_weight(class_weight='balanced', classes=np.unique(y_train), y=y_train_res)\n",
    "\n",
    "# classes are the unique class labels in y_train\n",
    "#classes = np.unique(y_train)\n",
    "\n",
    "# compute the class weights based on inverse of class frequency\n",
    "#class_weights = compute_class_weight('balanced', classes, y_train)\n",
    "\n",
    "\n",
    "# Compute class weights\n",
    "#class_weights = compute_class_weight('balanced', classes=[0, 1], y=y_train)\n",
    "\n",
    "\n",
    "## Define hyperparameters to search over\n",
    "param_grid = {'n_neighbors': [3, 5, 7, 9],\n",
    "              'algorithm': ['auto'],\n",
    "              'weights': ['distance', 'uniform']}\n",
    "\n",
    "# Create GridSearchCV object\n",
    "grid_search = GridSearchCV(knn_cv, param_grid, cv=stratified, scoring='f1_macro',n_jobs=-1)# f1_macro-> imbalanced data\n",
    "\n",
    "\n",
    "# Fit grid search to training data\n",
    "grid_search.fit(X_train_res, y_train_res)\n",
    "\n",
    "\n",
    "# Get the best estimator and score\n",
    "best_knn = grid_search.best_estimator_  #obtain the best estimator from the grid search \n",
    "best_score = grid_search.best_score_\n",
    "\n",
    "\n",
    "# Evaluate the best estimator on the test data\n",
    "y_pred = best_knn.predict(X_test)\n",
    "test_score = f1_score(y_test, y_pred)\n",
    "\n",
    "print(f\"Best F1 score: {best_score}\")\n",
    "print(f\"Test F1 score: {test_score}\")"
   ]
  },
  {
   "cell_type": "code",
   "execution_count": 38,
   "id": "87e32101",
   "metadata": {},
   "outputs": [
    {
     "name": "stdout",
     "output_type": "stream",
     "text": [
      "Confusion matrix:\n",
      "True negatives: 10141\n",
      "False positives: 1825\n",
      "False negatives: 640\n",
      "True positives: 958\n"
     ]
    }
   ],
   "source": [
    "# Calculate confusion matrix\n",
    "tn, fp, fn, tp = confusion_matrix(y_test, y_pred).ravel()\n",
    "\n",
    "print(\"Confusion matrix:\")\n",
    "print(f\"True negatives: {tn}\")\n",
    "print(f\"False positives: {fp}\")\n",
    "print(f\"False negatives: {fn}\")\n",
    "print(f\"True positives: {tp}\")"
   ]
  },
  {
   "cell_type": "code",
   "execution_count": 39,
   "id": "52eb545f",
   "metadata": {},
   "outputs": [
    {
     "name": "stdout",
     "output_type": "stream",
     "text": [
      "tuned hyperparameters: (best parameters) {'algorithm': 'auto', 'n_neighbors': 3, 'weights': 'distance'}\n"
     ]
    }
   ],
   "source": [
    "print('tuned hyperparameters: (best parameters)', grid_search.best_params_)"
   ]
  },
  {
   "cell_type": "markdown",
   "id": "af566167",
   "metadata": {},
   "source": [
    "# Calculate the confusion matrix for KNN"
   ]
  },
  {
   "cell_type": "code",
   "execution_count": 40,
   "id": "5eb39af7",
   "metadata": {},
   "outputs": [
    {
     "data": {
      "image/png": "[encoded data removed]",
      "text/plain": [
       "<Figure size 640x480 with 2 Axes>"
      ]
     },
     "metadata": {},
     "output_type": "display_data"
    }
   ],
   "source": [
    "y_pred= best_knn.predict(X_test)\n",
    "\n",
    "plot_confusion_matrix(y_pred, y_test, labels=[0, 1])"
   ]
  },
  {
   "cell_type": "markdown",
   "id": "2ad0ced2",
   "metadata": {},
   "source": [
    "# KNN test Result"
   ]
  },
  {
   "cell_type": "code",
   "execution_count": 41,
   "id": "29f0afbd",
   "metadata": {},
   "outputs": [
    {
     "name": "stdout",
     "output_type": "stream",
     "text": [
      "X_test Acuracy: 0.8182689472132114\n"
     ]
    }
   ],
   "source": [
    "accu.append(best_knn.score(X_test,y_test))\n",
    "methods.append('KNN')\n",
    "print('X_test Acuracy:',best_knn.score(X_test,y_test))"
   ]
  },
  {
   "cell_type": "code",
   "execution_count": 42,
   "id": "a7e81939",
   "metadata": {},
   "outputs": [
    {
     "name": "stdout",
     "output_type": "stream",
     "text": [
      "              precision    recall  f1-score   support\n",
      "\n",
      "           0       0.94      0.85      0.89     11966\n",
      "           1       0.34      0.60      0.44      1598\n",
      "\n",
      "    accuracy                           0.82     13564\n",
      "   macro avg       0.64      0.72      0.66     13564\n",
      "weighted avg       0.87      0.82      0.84     13564\n",
      "\n"
     ]
    }
   ],
   "source": [
    "print(classification_report(y_test,y_pred))"
   ]
  },
  {
   "cell_type": "markdown",
   "id": "79449404",
   "metadata": {},
   "source": [
    "# Random Forest"
   ]
  },
  {
   "cell_type": "code",
   "execution_count": 43,
   "id": "4d92d268",
   "metadata": {},
   "outputs": [
    {
     "name": "stdout",
     "output_type": "stream",
     "text": [
      "Training accuracy: 1.0\n",
      "Test accuracy: 0.8809348274845178\n",
      "Warning: Overfitting detected\n"
     ]
    }
   ],
   "source": [
    "# Fit Random Forest model on the training data\n",
    "rf = RandomForestClassifier(random_state=42)\n",
    "rf.fit(X_train_res, y_train_res)\n",
    "\n",
    "# Evaluate the performance on the training data\n",
    "train_accuracy = rf.score(X_train_res, y_train_res)\n",
    "print(\"Training accuracy:\", train_accuracy)\n",
    "\n",
    "# Evaluate the performance on the test data\n",
    "test_prediction = rf.predict(X_test)\n",
    "test_accuracy = accuracy_score(y_test, test_prediction)\n",
    "print(\"Test accuracy:\", test_accuracy)\n",
    "\n",
    "# Check for overfitting by comparing train and test accuracy\n",
    "if abs(train_accuracy - test_accuracy) > 0.1:\n",
    "    print(\"Warning: Overfitting detected\")\n",
    "\n",
    "# Train and test accuracy are quite close so we don't seem to have too much overfitting"
   ]
  },
  {
   "cell_type": "code",
   "execution_count": 44,
   "id": "15982d32",
   "metadata": {},
   "outputs": [
    {
     "data": {
      "text/plain": [
       "array([[11146,   820],\n",
       "       [  795,   803]], dtype=int64)"
      ]
     },
     "execution_count": 44,
     "metadata": {},
     "output_type": "execute_result"
    }
   ],
   "source": [
    "# evaluate\n",
    "confusion_matrix(y_test,test_prediction)"
   ]
  },
  {
   "cell_type": "code",
   "execution_count": 45,
   "id": "fafa4a7e",
   "metadata": {},
   "outputs": [
    {
     "name": "stdout",
     "output_type": "stream",
     "text": [
      "              precision    recall  f1-score   support\n",
      "\n",
      "           0       0.93      0.93      0.93     11966\n",
      "           1       0.49      0.50      0.50      1598\n",
      "\n",
      "    accuracy                           0.88     13564\n",
      "   macro avg       0.71      0.72      0.72     13564\n",
      "weighted avg       0.88      0.88      0.88     13564\n",
      "\n"
     ]
    }
   ],
   "source": [
    "print(classification_report(y_test,test_prediction))"
   ]
  },
  {
   "cell_type": "markdown",
   "id": "75544029",
   "metadata": {},
   "source": [
    "## Hyperparameters tuning GridSearch Random Forest"
   ]
  },
  {
   "cell_type": "code",
   "execution_count": 46,
   "id": "015b0512",
   "metadata": {},
   "outputs": [
    {
     "name": "stdout",
     "output_type": "stream",
     "text": [
      "Best F1 score: 0.9046581342674059\n",
      "Test F1 score: 0.43734307235790915\n",
      "CPU times: total: 10.8 s\n",
      "Wall time: 1min 5s\n"
     ]
    }
   ],
   "source": [
    "%%time\n",
    "\n",
    "\n",
    "\n",
    "# Define the random forest classifier \n",
    "rf_1 = RandomForestClassifier(random_state=42)\n",
    "\n",
    "\n",
    "# Define the class_weight (gives equall importance to the classes)\n",
    "class_weights = compute_class_weight(class_weight='balanced', classes=np.unique(y_train), y=y_train_res)\n",
    "# Number of trees in random forest\n",
    "n_estimators = [10, 30, 50, 70, 100, 120, 150],\n",
    "# Number of features to consider at every split\n",
    "max_features = ['log2', 'sqrt']\n",
    "# Maximum number of levels in tree\n",
    "max_depth = [3, 5, 7, 9]\n",
    "\n",
    "# Minimum number of samples required to split a node\n",
    "min_samples_split = [2, 5, 10]\n",
    "# Minimum number of samples required at each leaf node\n",
    "min_samples_leaf = [1, 2, 4]\n",
    "\n",
    "\n",
    "parameters = {'n_estimators': n_estimators , \n",
    "                  'criterion' : [ 'entropy'], \n",
    "                  'max_depth': max_depth, \n",
    "                  'max_features': ['auto','sqrt'],\n",
    "             'min_samples_split':min_samples_split,\n",
    "             'min_samples_leaf':min_samples_leaf,\n",
    "            'class_weight':class_weights}\n",
    "\n",
    "\n",
    "# Define the resampling technique (ensure the model have enough samples from the minority)\n",
    "oversampler = RandomOverSampler(sampling_strategy='minority', random_state=42)\n",
    "\n",
    "# Define the GridSearch Object\n",
    "rf_cv = GridSearchCV(rf_1,parameters, cv=stratified, scoring='f1_macro', n_jobs=-1)\n",
    "\n",
    "\n",
    "\n",
    "# Fit grid search to training data\n",
    "grid_search.fit(X_train_res, y_train_res)\n",
    "\n",
    "\n",
    "# Get the best estimator and score\n",
    "best_rf = grid_search.best_estimator_  #obtain the best estimator from the grid search \n",
    "best_score = grid_search.best_score_\n",
    "\n",
    "\n",
    "# Evaluate the best estimator on the test data\n",
    "y_pred = best_rf.predict(X_test)\n",
    "test_score = f1_score(y_test, y_pred)\n",
    "\n",
    "print(f\"Best F1 score: {best_score}\")\n",
    "print(f\"Test F1 score: {test_score}\")"
   ]
  },
  {
   "cell_type": "markdown",
   "id": "5a5efc84",
   "metadata": {},
   "source": [
    "# Random Forest test Result"
   ]
  },
  {
   "cell_type": "code",
   "execution_count": 47,
   "id": "f3dc84db",
   "metadata": {},
   "outputs": [
    {
     "name": "stdout",
     "output_type": "stream",
     "text": [
      "X_test Acuracy: 0.8182689472132114\n"
     ]
    }
   ],
   "source": [
    "accu.append(best_rf.score(X_test,y_test))\n",
    "methods.append('Random Forest')\n",
    "print('X_test Acuracy:',best_rf.score(X_test,y_test))"
   ]
  },
  {
   "cell_type": "markdown",
   "id": "47db943b",
   "metadata": {},
   "source": [
    "# Confusion matrix for Random Forest"
   ]
  },
  {
   "cell_type": "code",
   "execution_count": 48,
   "id": "864b5e5f",
   "metadata": {},
   "outputs": [
    {
     "data": {
      "image/png": "[encoded data removed]",
      "text/plain": [
       "<Figure size 640x480 with 2 Axes>"
      ]
     },
     "metadata": {},
     "output_type": "display_data"
    }
   ],
   "source": [
    "y_pred= best_rf.predict(X_test)\n",
    "\n",
    "plot_confusion_matrix(y_pred, y_test, labels=[0, 1])"
   ]
  },
  {
   "cell_type": "code",
   "execution_count": 49,
   "id": "9376ac55",
   "metadata": {},
   "outputs": [
    {
     "name": "stdout",
     "output_type": "stream",
     "text": [
      "              precision    recall  f1-score   support\n",
      "\n",
      "           0       0.94      0.85      0.89     11966\n",
      "           1       0.34      0.60      0.44      1598\n",
      "\n",
      "    accuracy                           0.82     13564\n",
      "   macro avg       0.64      0.72      0.66     13564\n",
      "weighted avg       0.87      0.82      0.84     13564\n",
      "\n"
     ]
    }
   ],
   "source": [
    "print(classification_report(y_test,y_pred))"
   ]
  },
  {
   "cell_type": "markdown",
   "id": "c91a5444",
   "metadata": {},
   "source": [
    "# The Best Performed Model"
   ]
  },
  {
   "cell_type": "code",
   "execution_count": 50,
   "id": "46e972c1",
   "metadata": {},
   "outputs": [
    {
     "name": "stdout",
     "output_type": "stream",
     "text": [
      "['Logistic Regression', 'KNN', 'Random Forest']\n",
      "[0.658802713063993, 0.8182689472132114, 0.8182689472132114]\n"
     ]
    }
   ],
   "source": [
    "print(methods)\n",
    "print(accu)"
   ]
  },
  {
   "cell_type": "code",
   "execution_count": 51,
   "id": "b7ac0270",
   "metadata": {},
   "outputs": [
    {
     "data": {
      "image/png": "[encoded data removed]",
      "text/plain": [
       "<Figure size 1000x500 with 1 Axes>"
      ]
     },
     "metadata": {},
     "output_type": "display_data"
    }
   ],
   "source": [
    "fig=plt.figure(figsize=(10,5))\n",
    "\n",
    "#creating the bar plot\n",
    "plt.bar(methods,accu,color='g',width=0.2)\n",
    "\n",
    "plt.xlabel('Methods')\n",
    "plt.ylabel('Accuracy')\n",
    "plt.title('Best Performed Method')\n",
    "plt.show()"
   ]
  },
  {
   "cell_type": "markdown",
   "id": "a229322d",
   "metadata": {},
   "source": [
    "# Model Effectivness\n",
    "\n",
    "\n",
    "### see ROC Curve (Receiver Operating Curve) & AUC"
   ]
  },
  {
   "cell_type": "markdown",
   "id": "c5ba3e7c",
   "metadata": {},
   "source": [
    "- The ROC curve tells us how well our classifier is classifying between term deposit suscriptions (True Positives) and non-term deposit suscriptions. \n",
    "\n",
    "\n",
    "- The X-axis is represented by False positive rates (Specificity) and the Y-axis is represented by the True Positive Rate (Sensitivity.) \n",
    "\n",
    "\n",
    "- As the line moves the threshold of the classification changes giving us different values. The closer is the line to our top left corner the better is our model separating both classes."
   ]
  },
  {
   "cell_type": "code",
   "execution_count": 52,
   "id": "f08979ab",
   "metadata": {},
   "outputs": [
    {
     "data": {
      "text/plain": [
       "Text(0.5, 1.0, 'Area under ROC')"
      ]
     },
     "execution_count": 52,
     "metadata": {},
     "output_type": "execute_result"
    },
    {
     "data": {
      "image/png": "[encoded data removed]",
      "text/plain": [
       "<Figure size 640x480 with 1 Axes>"
      ]
     },
     "metadata": {},
     "output_type": "display_data"
    }
   ],
   "source": [
    "RocCurveDisplay.from_estimator(best_lr,X_test,y_test)\n",
    "plt.plot([0,1],[0,1])\n",
    "plt.title('Area under ROC')"
   ]
  },
  {
   "cell_type": "code",
   "execution_count": 53,
   "id": "e261040f",
   "metadata": {},
   "outputs": [
    {
     "data": {
      "text/plain": [
       "Text(0.5, 1.0, 'Area under ROC')"
      ]
     },
     "execution_count": 53,
     "metadata": {},
     "output_type": "execute_result"
    },
    {
     "data": {
      "image/png": "[encoded data removed]",
      "text/plain": [
       "<Figure size 640x480 with 1 Axes>"
      ]
     },
     "metadata": {},
     "output_type": "display_data"
    }
   ],
   "source": [
    "RocCurveDisplay.from_estimator(best_knn,X_test,y_test)\n",
    "plt.plot([0,1],[0,1])\n",
    "plt.title('Area under ROC')"
   ]
  },
  {
   "cell_type": "code",
   "execution_count": 54,
   "id": "dae1c3ed",
   "metadata": {},
   "outputs": [
    {
     "data": {
      "text/plain": [
       "Text(0.5, 1.0, 'Area under ROC')"
      ]
     },
     "execution_count": 54,
     "metadata": {},
     "output_type": "execute_result"
    },
    {
     "data": {
      "image/png": "[encoded data removed]",
      "text/plain": [
       "<Figure size 640x480 with 1 Axes>"
      ]
     },
     "metadata": {},
     "output_type": "display_data"
    }
   ],
   "source": [
    "RocCurveDisplay.from_estimator(best_rf,X_test,y_test)\n",
    "plt.plot([0,1],[0,1])\n",
    "plt.title('Area under ROC')"
   ]
  },
  {
   "cell_type": "code",
   "execution_count": 55,
   "id": "09eabc45",
   "metadata": {},
   "outputs": [
    {
     "data": {
      "text/plain": [
       "<matplotlib.legend.Legend at 0x240b26bac20>"
      ]
     },
     "execution_count": 55,
     "metadata": {},
     "output_type": "execute_result"
    },
    {
     "data": {
      "image/png": "[encoded data removed]",
      "text/plain": [
       "<Figure size 800x600 with 1 Axes>"
      ]
     },
     "metadata": {},
     "output_type": "display_data"
    }
   ],
   "source": [
    "from sklearn.metrics import RocCurveDisplay\n",
    "\n",
    "# Create a figure and axes object\n",
    "fig, ax = plt.subplots(figsize=(8, 6))\n",
    "\n",
    "# Plot the ROC curve for each model\n",
    "RocCurveDisplay.from_estimator(best_lr, X_test, y_test, ax=ax, name='Logistic Regression')\n",
    "RocCurveDisplay.from_estimator(best_knn, X_test, y_test, ax=ax, name='KNN')\n",
    "RocCurveDisplay.from_estimator(best_rf, X_test, y_test, ax=ax, name='Random Forest')\n",
    "\n",
    "# Plot the diagonal line\n",
    "ax.plot([0, 1], [0, 1], linestyle='--', color='gray')\n",
    "\n",
    "# Add axis labels and a title\n",
    "ax.set_xlabel('False Positive Rate')\n",
    "ax.set_ylabel('True Positive Rate')\n",
    "ax.set_title('ROC Curves')\n",
    "\n",
    "# Add a legend\n",
    "ax.legend()\n"
   ]
  },
  {
   "cell_type": "markdown",
   "id": "2597ea8c",
   "metadata": {},
   "source": [
    "**Discussion on Evaluation** \n",
    "\n",
    "\n",
    "- The evaluation metrics used for this data are confusion matrix (recall_score, f1_score) and Receiver Operating Characteristics (ROC) curve. They were selected because:\n",
    "\n",
    "\n",
    "1. The data are highly imbalance and skew towards the negative side of the company i.e., loss, so f1_score will help detect the harmonic mean between the sensitivity and specificity.\n",
    "\n",
    "\n",
    "\n",
    "2. Higher recall score is better than higher precision here because recall score aka (sensitivity) is the fraction of retrieved instances among all relevant instances in our case, identifying the customers that will subscribe for a term deposit is much more important than identifying customers that may or may not subscribe.\n",
    "\n",
    "\n",
    "\n",
    "3. ROC curve helps to explain how well each model explains the variance in the data closer to 1 is always preferred and should be above 0.5 to be better than random guess.\n",
    "\n",
    "\n",
    "\n",
    "\n",
    "\n",
    "\n",
    "\n",
    "\n",
    "\n",
    "\n",
    "\n",
    "\n"
   ]
  }
 ],
 "metadata": {
  "kernelspec": {
   "display_name": "Python 3 (ipykernel)",
   "language": "python",
   "name": "python3"
  },
  "language_info": {
   "codemirror_mode": {
    "name": "ipython",
    "version": 3
   },
   "file_extension": ".py",
   "mimetype": "text/x-python",
   "name": "python",
   "nbconvert_exporter": "python",
   "pygments_lexer": "ipython3",
   "version": "3.10.11"
  }
 },
 "nbformat": 4,
 "nbformat_minor": 5
}
